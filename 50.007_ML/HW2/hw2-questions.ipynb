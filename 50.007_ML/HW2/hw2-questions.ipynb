{
 "cells": [
  {
   "attachments": {},
   "cell_type": "markdown",
   "metadata": {},
   "source": [
    "## Homework 2\n",
    "### Student Details\n",
    "**Name:** Atul Parida<br>\n",
    "**Student ID:** 1006184<br>\n",
    "**Course ID** 50.007 Machine Learning (Summer 2023)<br>\n",
    "\n",
    "### Instructions to run\n",
    "Press *Run All* to run all cells for the given Jupyter notebook. This notebook was compiled using the Python 3.9.13 kernel."
   ]
  },
  {
   "attachments": {},
   "cell_type": "markdown",
   "metadata": {},
   "source": [
    "### Common Imports"
   ]
  },
  {
   "cell_type": "code",
   "execution_count": 1,
   "metadata": {},
   "outputs": [],
   "source": [
    "import pandas as pd\n",
    "import numpy as np\n",
    "import matplotlib.pyplot as plt\n",
    "import seaborn as sns\n",
    "import scipy.stats as stats\n",
    "import math\n",
    "import os\n",
    "from sklearn.linear_model import LinearRegression\n",
    "from sklearn.metrics import mean_squared_error\n",
    "from sklearn.model_selection import train_test_split"
   ]
  },
  {
   "attachments": {},
   "cell_type": "markdown",
   "metadata": {},
   "source": [
    "### Question 2"
   ]
  },
  {
   "cell_type": "code",
   "execution_count": 12,
   "metadata": {},
   "outputs": [
    {
     "data": {
      "text/plain": [
       "(46750, 3)"
      ]
     },
     "execution_count": 12,
     "metadata": {},
     "output_type": "execute_result"
    }
   ],
   "source": [
    "### Import Data\n",
    "import PIL as pil\n",
    "\n",
    "data_path = os.path.join(os.path.curdir, 'HW2_data', '2', 'hw2_img.jpg')\n",
    "\n",
    "# import image from data - format: rows x columns x RGB\n",
    "img = pil.Image.open(data_path)\n",
    "img = np.array(img)\n",
    "\n",
    "# convert into 2D array - format: pixels x RGB\n",
    "img = img.reshape(-1, 3)\n",
    "img.shape\n"
   ]
  },
  {
   "cell_type": "code",
   "execution_count": null,
   "metadata": {},
   "outputs": [],
   "source": [
    "class KMeans:\n",
    "    def __init__(self) -> None:\n",
    "        self.no_clusters = 0\n",
    "        self.centroids = None\n",
    "        self.labels = None\n",
    "        pass\n",
    "\n",
    "    def fit(self, dataset, k, centroids):\n",
    "        self.no_clusters = k\n",
    "        self.centroids = centroids\n",
    "        self.labels = np.zeros(len(dataset))\n",
    "\n",
    "    def calc_sq_euclidean_dist(self, point1, point2):\n",
    "        return np.sum((point1 - point2) ** 2)\n",
    "    \n",
    "    def calc_centroids(self, dataset):\n",
    "        for i in range(self.no_clusters):\n",
    "            self.centroids[i] = np.mean(dataset[self.labels == i], axis=0)\n",
    "\n",
    "    def calc_labels(self, dataset):\n",
    "        for i in range(len(dataset)):\n",
    "            dist = np.zeros(self.no_clusters)\n",
    "            for j in range(self.no_clusters):\n",
    "                dist[j] = self.calc_sq_euclidean_dist(dataset[i], self.centroids[j])\n",
    "            self.labels[i] = np.argmin(dist)\n",
    "\n",
    "    def fit_predict(self, dataset, k, centroids):\n",
    "        self.fit(dataset, k, centroids)\n",
    "        self.calc_labels(dataset)\n",
    "        self.calc_centroids(dataset)\n",
    "        return self.labels\n",
    "    \n",
    "    def predict(self, dataset):\n",
    "        self.calc_labels(dataset)\n",
    "        return self.labels\n",
    "    \n",
    "    def calc_sse(self, dataset):\n",
    "        sse = 0\n",
    "        for i in range(len(dataset)):\n",
    "            sse += self.calc_sq_euclidean_dist(dataset[i], self.centroids[int(self.labels[i])])\n",
    "        return sse"
   ]
  },
  {
   "attachments": {},
   "cell_type": "markdown",
   "metadata": {},
   "source": [
    "### Question 5"
   ]
  },
  {
   "cell_type": "code",
   "execution_count": null,
   "metadata": {},
   "outputs": [],
   "source": []
  }
 ],
 "metadata": {
  "kernelspec": {
   "display_name": "base",
   "language": "python",
   "name": "python3"
  },
  "language_info": {
   "codemirror_mode": {
    "name": "ipython",
    "version": 3
   },
   "file_extension": ".py",
   "mimetype": "text/x-python",
   "name": "python",
   "nbconvert_exporter": "python",
   "pygments_lexer": "ipython3",
   "version": "3.9.13"
  },
  "orig_nbformat": 4
 },
 "nbformat": 4,
 "nbformat_minor": 2
}
