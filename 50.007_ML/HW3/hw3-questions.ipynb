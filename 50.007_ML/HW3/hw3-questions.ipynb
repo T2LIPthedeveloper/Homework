{
 "cells": [
  {
   "cell_type": "markdown",
   "metadata": {},
   "source": [
    "## Homework 3\n",
    "### Student Details\n",
    "**Name:** Atul Parida<br>\n",
    "**Student ID:** 1006184<br>\n",
    "**Course ID** 50.007 Machine Learning (Summer 2023)<br>\n",
    "\n",
    "### Instructions to run\n",
    "Press *Run All* to run all cells for the given Jupyter notebook. This notebook was compiled using the Python 3.9.13 kernel.\n",
    "\n",
    "### Notes\n",
    "The following code provides solutions only for the questions in the homework that require programming. All other solutions have been answered in the PDF file attached to the submission."
   ]
  },
  {
   "cell_type": "markdown",
   "metadata": {},
   "source": [
    "### Question 1\n",
    "\n",
    "Download and install the widely used SVM implementation LIBSVM (https://github.com/cjlin1/libsvm, or https://www.csie.ntu.edu.tw/ ̃cjlin/\n",
    "libsvm/; clicking on either link takes you to the webpage). We expect you to install the package on your own – this is part of learning how to use off-the-shelf machine learning software. Read the documentation to understand how to use it.\n",
    "\n",
    "Download promoters.zip. In that folder are training.txt and test.txt, which respectively contain 74 training examples and 32 test examples in LIBSVM format. The goal is to predict whether a certain DNA sequence is a promoter or not based on 57 attributes about the sequence (this is a binary classification task).\n",
    "\n",
    "Run LIBSVM to classify promoters with different kernels (0-3), using default values for all other parameters. What is your test accuracy for each kernel choice?"
   ]
  },
  {
   "cell_type": "code",
   "execution_count": 1,
   "metadata": {},
   "outputs": [],
   "source": [
    "### COMMON IMPORTS ###\n",
    "\n",
    "import numpy as np\n",
    "import matplotlib.pyplot as plt\n",
    "import pandas as pd\n",
    "from libsvm.svmutil import *\n",
    "import os"
   ]
  },
  {
   "cell_type": "code",
   "execution_count": 2,
   "metadata": {},
   "outputs": [],
   "source": [
    "### PATH STORAGE ###\n",
    "\n",
    "current_path = os.path.curdir\n",
    "train_path = os.path.join(current_path, 'HW3_data', 'promoters','training.txt')\n",
    "test_path = os.path.join(current_path, 'HW3_data', 'promoters','test.txt')\n",
    "\n",
    "### DATA LOADING FUNCTION ###\n",
    "\n",
    "def load_libsvm_data(file_path):\n",
    "    y, x = svm_read_problem(file_path)\n",
    "    return y, x\n",
    "\n",
    "### DATA LOADING ###\n",
    "\n",
    "y_train, x_train = load_libsvm_data(train_path)\n",
    "y_test, x_test = load_libsvm_data(test_path)"
   ]
  },
  {
   "cell_type": "code",
   "execution_count": 3,
   "metadata": {},
   "outputs": [
    {
     "name": "stdout",
     "output_type": "stream",
     "text": [
      "Training SVM with kernel 0...\n",
      "Accuracy = 84.375% (27/32) (classification)\n",
      "Training SVM with kernel 1...\n",
      "Accuracy = 81.25% (26/32) (classification)\n",
      "Training SVM with kernel 2...\n",
      "Accuracy = 90.625% (29/32) (classification)\n",
      "Training SVM with kernel 3...\n",
      "Accuracy = 43.75% (14/32) (classification)\n",
      "Test accuracy for kernel 0: 84.375%\n",
      "Test accuracy for kernel 1: 81.25%\n",
      "Test accuracy for kernel 2: 90.625%\n",
      "Test accuracy for kernel 3: 43.75%\n"
     ]
    }
   ],
   "source": [
    "# Train and test SVM models with different kernels (0-3)\n",
    "kernel_choices = [0, 1, 2, 3]\n",
    "accuracy_results = []\n",
    "\n",
    "for kernel in kernel_choices:\n",
    "    print(f\"Training SVM with kernel {kernel}...\")\n",
    "    model = svm_train(y_train, x_train, f\"-t {kernel}\")\n",
    "    p_label, p_acc, _ = svm_predict(y_test, x_test, model)\n",
    "    accuracy_results.append(p_acc[0])\n",
    "\n",
    "# Display test accuracy for each kernel choice\n",
    "for i, kernel in enumerate(kernel_choices):\n",
    "    print(f\"Test accuracy for kernel {kernel}: {accuracy_results[i]}%\")"
   ]
  },
  {
   "cell_type": "markdown",
   "metadata": {},
   "source": [
    "### Question 3\n",
    "You are given a training set diabetes train.csv. Each row in the file contains the probabil-\n",
    "ity that a patient has diabetes, followed by values of 20 unknown features (x1,x2,...,x20). Write\n",
    "Python code to train a logistic regression model with stochastic gradient descent (SGD). Run\n",
    "SGD for 10,000 iterations, and save the model weights after every 100 iterations. Plot the log-\n",
    "likelihood of the training data given by your model at every 100 iterations. (Log-likelihood is\n",
    "log ∏n\n",
    "i=1 P(yi | xi) = ∑n\n",
    "i=1 logP(yi | xi) where (xi,yi) is an example.) Provide crystal clear\n",
    "instructions along with the source code on how to execute it. Try a learning rate of 0.1.\n",
    "From the values of the weights obtained, which five features do you think are the most important?\n",
    "How did you choose these five features?"
   ]
  },
  {
   "cell_type": "code",
   "execution_count": 4,
   "metadata": {},
   "outputs": [],
   "source": [
    "### DATA LOADING ###\n",
    "\n",
    "q3_train_path = os.path.join(current_path, 'HW3_data', 'train_diabetes.csv')\n",
    "\n",
    "data = pd.read_csv(q3_train_path, header=None)\n",
    "x = data.iloc[:, 1:].values\n",
    "y = data.iloc[:, 0].values"
   ]
  },
  {
   "cell_type": "code",
   "execution_count": 12,
   "metadata": {},
   "outputs": [
    {
     "name": "stdout",
     "output_type": "stream",
     "text": [
      "Iter no 0 has a log-likelihood of -0.006541061320199072.\n",
      "Iter no 100 has a log-likelihood of 0.00841986921074935.\n",
      "Iter no 200 has a log-likelihood of 0.010530201109518576.\n",
      "Iter no 300 has a log-likelihood of 0.012205332547770049.\n",
      "Iter no 400 has a log-likelihood of 0.013498168203028987.\n",
      "Iter no 500 has a log-likelihood of 0.014351755009352278.\n",
      "Iter no 600 has a log-likelihood of 0.015403494994009222.\n",
      "Iter no 700 has a log-likelihood of 0.016141446907562598.\n",
      "Iter no 800 has a log-likelihood of 0.016786925130227698.\n"
     ]
    },
    {
     "ename": "KeyboardInterrupt",
     "evalue": "",
     "output_type": "error",
     "traceback": [
      "\u001b[1;31m---------------------------------------------------------------------------\u001b[0m",
      "\u001b[1;31mKeyboardInterrupt\u001b[0m                         Traceback (most recent call last)",
      "Cell \u001b[1;32mIn[12], line 42\u001b[0m\n\u001b[0;32m     39\u001b[0m save_interval \u001b[39m=\u001b[39m \u001b[39m100\u001b[39m\n\u001b[0;32m     41\u001b[0m \u001b[39m# Model training\u001b[39;00m\n\u001b[1;32m---> 42\u001b[0m weights, log_likelihoods \u001b[39m=\u001b[39m logistic_regression_sgd(x, y, learning_rate, iter_n, save_interval)\n",
      "Cell \u001b[1;32mIn[12], line 26\u001b[0m, in \u001b[0;36mlogistic_regression_sgd\u001b[1;34m(X, y, learning_rate, num_iterations, save_interval)\u001b[0m\n\u001b[0;32m     24\u001b[0m x_j \u001b[39m=\u001b[39m X_shuffled[j]\n\u001b[0;32m     25\u001b[0m y_j \u001b[39m=\u001b[39m y_shuffled[j]\n\u001b[1;32m---> 26\u001b[0m score_j \u001b[39m=\u001b[39m np\u001b[39m.\u001b[39;49mdot(x_j, weights)\n\u001b[0;32m     27\u001b[0m gradient \u001b[39m=\u001b[39m \u001b[39m-\u001b[39my_j \u001b[39m*\u001b[39m x_j \u001b[39m*\u001b[39m sigmoid(\u001b[39m-\u001b[39my_j \u001b[39m*\u001b[39m score_j)\n\u001b[0;32m     28\u001b[0m weights \u001b[39m-\u001b[39m\u001b[39m=\u001b[39m learning_rate \u001b[39m*\u001b[39m gradient\n",
      "File \u001b[1;32m<__array_function__ internals>:200\u001b[0m, in \u001b[0;36mdot\u001b[1;34m(*args, **kwargs)\u001b[0m\n",
      "\u001b[1;31mKeyboardInterrupt\u001b[0m: "
     ]
    }
   ],
   "source": [
    "def sigmoid(z):\n",
    "    return 1 / (1 + np.exp(-z))\n",
    "\n",
    "def log_likelihood(X, y, weights):\n",
    "    scores = np.dot(X, weights)\n",
    "    max_score = np.max(scores)\n",
    "    loglik_val = np.log(np.sum(np.exp(scores - max_score))) - np.log(np.sum(np.exp(-max_score)))\n",
    "    loglik_val -= np.sum(np.log(1 + np.exp(scores - max_score)))\n",
    "    return loglik_val / X.shape[0]\n",
    "\n",
    "def logistic_regression_sgd(X, y, learning_rate=0.01, num_iterations=10000, save_interval=100):\n",
    "    num_features = X.shape[1]\n",
    "    weights = np.zeros(num_features)\n",
    "    log_liks = []\n",
    "\n",
    "    for i in range(num_iterations + 1):\n",
    "        # Step 1: Shuffle data\n",
    "        indices = np.arange(X.shape[0])  # Create an array of indices from 0 to the number of data points\n",
    "        np.random.shuffle(indices)      # Randomly shuffle the indices\n",
    "        X_shuffled = X[indices]         # Shuffle the data and labels based on the shuffled indices\n",
    "        y_shuffled = y[indices]\n",
    "        \n",
    "        # Step 2: Iterate over shuffled data\n",
    "        for j in range(X.shape[0]):\n",
    "            x_j = X_shuffled[j]          # Get the feature vector of the current data point\n",
    "            y_j = y_shuffled[j]          # Get the label of the current data point\n",
    "            score_j = np.dot(x_j, weights)  # Compute the dot product of the features and weights (score)\n",
    "            gradient = -y_j * x_j * sigmoid(-y_j * score_j)  # Compute the gradient of the log-likelihood\n",
    "            weights -= learning_rate * gradient  # Update the weights using the learning rate and gradient\n",
    "        \n",
    "        # Step 3: Save weights and log-likelihood at specified intervals\n",
    "        if i % save_interval == 0:\n",
    "            loglik_result = log_likelihood(X, y, weights)  # Compute the log-likelihood using updated weights\n",
    "            log_liks.append(loglik_result)  # Store the log-likelihood value\n",
    "            print(f\"Iter no {i} has a log-likelihood of {loglik_result}.\")\n",
    "\n",
    "    return weights, log_liks\n",
    "\n",
    "# Example usage:\n",
    "learning_rate = 0.1\n",
    "iter_n = 10000\n",
    "save_interval = 100\n",
    "\n",
    "# Model training with input data 'x' and labels 'y'\n",
    "weights, log_likelihoods = logistic_regression_sgd(x, y, learning_rate, iter_n, save_interval)\n"
   ]
  },
  {
   "cell_type": "code",
   "execution_count": 10,
   "metadata": {},
   "outputs": [
    {
     "data": {
      "image/png": "[encoded data removed]",
      "text/plain": [
       "<Figure size 640x480 with 1 Axes>"
      ]
     },
     "metadata": {},
     "output_type": "display_data"
    },
    {
     "name": "stdout",
     "output_type": "stream",
     "text": [
      "Five most important features:\n",
      "Feature 19: Weight = -112.70191209105873\n",
      "Feature 2: Weight = -112.12500372620119\n",
      "Feature 3: Weight = 56.440129621090826\n",
      "Feature 20: Weight = 55.014636860222645\n",
      "Feature 1: Weight = 53.15886567881427\n"
     ]
    }
   ],
   "source": [
    "# Plot log-likelihood vs. iterations\n",
    "iterations = range(0, iter_n + 1, save_interval)\n",
    "plt.plot(iterations, log_likelihoods)\n",
    "plt.xlabel('Iterations')\n",
    "plt.ylabel('Log-likelihood')\n",
    "plt.title('Log-likelihood vs. Iterations')\n",
    "plt.show()\n",
    "\n",
    "#Five most important features\n",
    "# Get the absolute values of the weights\n",
    "absolute_weights = np.abs(weights)\n",
    "# Get the indices of the five features with the highest absolute weights\n",
    "top_five_indices = np.argsort(absolute_weights)[-5:][::-1]\n",
    "# Get the feature names corresponding to the top five indices\n",
    "feature_names = data.columns[1:].values\n",
    "top_five_features = feature_names[top_five_indices]\n",
    "top_five_weights = weights[top_five_indices]\n",
    "print(\"Five most important features:\")\n",
    "for i in range(5):\n",
    "    print(f\"Feature {top_five_features[i]}: Weight = {top_five_weights[i]}\")\n"
   ]
  }
 ],
 "metadata": {
  "kernelspec": {
   "display_name": "Python 3",
   "language": "python",
   "name": "python3"
  },
  "language_info": {
   "codemirror_mode": {
    "name": "ipython",
    "version": 3
   },
   "file_extension": ".py",
   "mimetype": "text/x-python",
   "name": "python",
   "nbconvert_exporter": "python",
   "pygments_lexer": "ipython3",
   "version": "3.10.13"
  },
  "orig_nbformat": 4
 },
 "nbformat": 4,
 "nbformat_minor": 2
}
