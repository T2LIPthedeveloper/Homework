{
 "cells": [
  {
   "cell_type": "markdown",
   "metadata": {},
   "source": [
    "## Homework 3\n",
    "### Student Details\n",
    "**Name:** Atul Parida<br>\n",
    "**Student ID:** 1006184<br>\n",
    "**Course ID** 50.007 Machine Learning (Summer 2023)<br>\n",
    "\n",
    "### Instructions to run\n",
    "Press *Run All* to run all cells for the given Jupyter notebook. This notebook was compiled using the Python 3.9.13 kernel.\n",
    "\n",
    "### Notes\n",
    "The following code provides solutions only for the questions in the homework that require programming. All other solutions have been answered in the PDF file attached to the submission."
   ]
  },
  {
   "cell_type": "markdown",
   "metadata": {},
   "source": [
    "### Question 1\n",
    "\n",
    "Download and install the widely used SVM implementation LIBSVM (https://github.com/cjlin1/libsvm, or https://www.csie.ntu.edu.tw/ ̃cjlin/\n",
    "libsvm/; clicking on either link takes you to the webpage). We expect you to install the package on your own – this is part of learning how to use off-the-shelf machine learning software. Read the documentation to understand how to use it.\n",
    "\n",
    "Download promoters.zip. In that folder are training.txt and test.txt, which respectively contain 74 training examples and 32 test examples in LIBSVM format. The goal is to predict whether a certain DNA sequence is a promoter or not based on 57 attributes about the sequence (this is a binary classification task).\n",
    "\n",
    "Run LIBSVM to classify promoters with different kernels (0-3), using default values for all other parameters. What is your test accuracy for each kernel choice?"
   ]
  },
  {
   "cell_type": "code",
   "execution_count": null,
   "metadata": {},
   "outputs": [],
   "source": []
  },
  {
   "cell_type": "markdown",
   "metadata": {},
   "source": [
    "### Question 3\n",
    "You are given a training set diabetes train.csv. Each row in the file contains the probabil-\n",
    "ity that a patient has diabetes, followed by values of 20 unknown features (x1,x2,...,x20). Write\n",
    "Python code to train a logistic regression model with stochastic gradient descent (SGD). Run\n",
    "SGD for 10,000 iterations, and save the model weights after every 100 iterations. Plot the log-\n",
    "likelihood of the training data given by your model at every 100 iterations. (Log-likelihood is\n",
    "log ∏n\n",
    "i=1 P(yi | xi) = ∑n\n",
    "i=1 logP(yi | xi) where (xi,yi) is an example.) Provide crystal clear\n",
    "instructions along with the source code on how to execute it. Try a learning rate of 0.1.\n",
    "From the values of the weights obtained, which five features do you think are the most important?\n",
    "How did you choose these five features?"
   ]
  },
  {
   "cell_type": "code",
   "execution_count": null,
   "metadata": {},
   "outputs": [],
   "source": []
  }
 ],
 "metadata": {
  "language_info": {
   "name": "python"
  },
  "orig_nbformat": 4
 },
 "nbformat": 4,
 "nbformat_minor": 2
}
