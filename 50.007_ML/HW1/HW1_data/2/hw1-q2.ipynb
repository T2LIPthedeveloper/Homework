{
 "cells": [
  {
   "cell_type": "code",
   "execution_count": 118,
   "metadata": {},
   "outputs": [],
   "source": [
    "# importing libraries for ML\n",
    "import numpy as np\n",
    "import pandas as pd\n",
    "import matplotlib.pyplot as plt"
   ]
  },
  {
   "cell_type": "code",
   "execution_count": 119,
   "metadata": {},
   "outputs": [
    {
     "data": {
      "text/plain": [
       "((982, 2), (982,), (1001, 2), (1001,))"
      ]
     },
     "execution_count": 119,
     "metadata": {},
     "output_type": "execute_result"
    }
   ],
   "source": [
    "# import csv files as pandas dataframes\n",
    "\n",
    "train = pd.read_csv('train_1_5.csv')\n",
    "test = pd.read_csv('test_1_5.csv')\n",
    "\n",
    "# separate into features and labels\n",
    "# first two columns are features, third (last) column is label\n",
    "train_features, train_labels = train.iloc[:, 0:2], train.iloc[:, 2]\n",
    "test_features, test_labels = test.iloc[:, 0:2], test.iloc[:, 2]\n",
    "\n",
    "# convert to numpy arrays\n",
    "train_features, train_labels = train_features.values, train_labels.values\n",
    "test_features, test_labels = test_features.values, test_labels.values\n",
    "\n",
    "# add a column of ones to the features\n",
    "train_features.shape, train_labels.shape, test_features.shape, test_labels.shape"
   ]
  },
  {
   "cell_type": "code",
   "execution_count": 120,
   "metadata": {},
   "outputs": [
    {
     "name": "stdout",
     "output_type": "stream",
     "text": [
      "(2,)\n",
      "(982, 2)\n",
      "Epoch: 1 Weights: [-2.40550232 -6.08865899] Offset: 0 Accuracy: 0.924643584521385\n",
      "Final Weights: [-2.40550232 -6.08865899] Final Offset: 0.0 Accuracy: 0.924643584521385\n",
      "\n",
      "Epoch: 1 Weights: [-2.40550232 -6.08865899] Offset: 0 Accuracy: 0.924643584521385\n",
      "Epoch: 2 Weights: [-2.59568466 -7.17680567] Offset: 0 Accuracy: 0.9572301425661914\n",
      "Epoch: 3 Weights: [-2.21491891 -7.90670898] Offset: 0 Accuracy: 0.9470468431771895\n",
      "Epoch: 4 Weights: [-2.02323382 -8.4678631 ] Offset: 0 Accuracy: 0.9501018329938901\n",
      "Epoch: 5 Weights: [-2.09254916 -9.01326578] Offset: 0 Accuracy: 0.9511201629327902\n",
      "Final Weights: [-2.09254916 -9.01326578] Final Offset: 1.0 Accuracy: 0.9511201629327902\n",
      "\n"
     ]
    }
   ],
   "source": [
    "# define function for basic perceptron regression\n",
    "# create np array of (2, 1)\n",
    "weights = np.array(np.zeros((2)))\n",
    "offset = 0\n",
    "print(weights.shape)\n",
    "print(train_features.shape)\n",
    "epochs = 1\n",
    "\n",
    "# define function for basic perceptron regression\n",
    "def perceptron_model(features, labels, wts, off, epochs):\n",
    "    features = np.copy(features)\n",
    "    labels = np.copy(labels)\n",
    "    wts = np.copy(wts)\n",
    "    accuracy = 0\n",
    "    for epoch in range(epochs):\n",
    "        accuracy = 0\n",
    "        for row_index in range(features.shape[0]):\n",
    "            row = features[row_index]\n",
    "            label = labels[row_index]\n",
    "            prediction = np.dot(row, wts) + off\n",
    "            if prediction * label <= 0:\n",
    "                wts += label * row\n",
    "                off += label\n",
    "            else:\n",
    "                accuracy += 1\n",
    "        print(\"Epoch: \" + str(epoch+1) + \" Weights: \" + str(wts) + \" Offset: \" + str(offset) + \" Accuracy: \" + str(accuracy / train_features.shape[0]))\n",
    "\n",
    "    print(\"Final Weights: \" + str(wts) + \" Final Offset: \" + str(off)+ \" Accuracy: \" + str(accuracy/train_features.shape[0]) + \"\\n\")\n",
    "# Single Epoch\n",
    "perceptron_model(train_features, train_labels, weights, offset, 1)\n",
    "\n",
    "# 5 Epochs\n",
    "perceptron_model(train_features, train_labels, weights, offset, 5)\n",
    "\n",
    "\n"
   ]
  }
 ],
 "metadata": {
  "kernelspec": {
   "display_name": "base",
   "language": "python",
   "name": "python3"
  },
  "language_info": {
   "codemirror_mode": {
    "name": "ipython",
    "version": 3
   },
   "file_extension": ".py",
   "mimetype": "text/x-python",
   "name": "python",
   "nbconvert_exporter": "python",
   "pygments_lexer": "ipython3",
   "version": "3.9.13"
  },
  "orig_nbformat": 4
 },
 "nbformat": 4,
 "nbformat_minor": 2
}
